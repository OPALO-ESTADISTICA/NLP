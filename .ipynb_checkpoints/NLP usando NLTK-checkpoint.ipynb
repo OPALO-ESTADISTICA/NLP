{
 "cells": [
  {
   "cell_type": "code",
   "execution_count": 39,
   "metadata": {},
   "outputs": [],
   "source": [
    "\n",
    "import matplotlib.pyplot as plt\n",
    "import nltk\n",
    "from nltk.tokenize import sent_tokenize     # Sentences\n",
    "from nltk.tokenize import word_tokenize     # Words\n",
    "from nltk.probability import FreqDist       # Evaluación de frecuencia\n",
    "from nltk.corpus import stopwords           # Stopwords\n",
    "from nltk.stem import PorterStemmer"
   ]
  },
  {
   "cell_type": "markdown",
   "metadata": {},
   "source": [
    "### Tokenization"
   ]
  },
  {
   "cell_type": "markdown",
   "metadata": {},
   "source": [
    "Tokenization es el primer paso en el análisis de texto. Consiste en fraccionar un párrafo en pequeños fragmentos tales como palabras o frases. Un token es una única unidad que es un bloque de construcción de la frase o párrafo"
   ]
  },
  {
   "cell_type": "code",
   "execution_count": 11,
   "metadata": {},
   "outputs": [],
   "source": [
    "text=\"\"\"Hello Mr. Smith, how are you doing today? The weather is great, and city is awesome.\n",
    "The sky is pinkish-blue. You shouldn't eat cardboard\"\"\""
   ]
  },
  {
   "cell_type": "code",
   "execution_count": 12,
   "metadata": {},
   "outputs": [
    {
     "name": "stdout",
     "output_type": "stream",
     "text": [
      "['Hello Mr. Smith, how are you doing today?', 'The weather is great, and city is awesome.', 'The sky is pinkish-blue.', \"You shouldn't eat cardboard\"]\n"
     ]
    }
   ],
   "source": [
    "# Separación por frases\n",
    "\n",
    "tokenized_text = sent_tokenize(text)\n",
    "print(tokenized_text)"
   ]
  },
  {
   "cell_type": "code",
   "execution_count": 13,
   "metadata": {},
   "outputs": [
    {
     "name": "stdout",
     "output_type": "stream",
     "text": [
      "['Hello', 'Mr.', 'Smith', ',', 'how', 'are', 'you', 'doing', 'today', '?', 'The', 'weather', 'is', 'great', ',', 'and', 'city', 'is', 'awesome', '.', 'The', 'sky', 'is', 'pinkish-blue', '.', 'You', 'should', \"n't\", 'eat', 'cardboard']\n"
     ]
    }
   ],
   "source": [
    "# Separación por palabras\n",
    "\n",
    "tokenized_word = word_tokenize(text)\n",
    "print(tokenized_word)"
   ]
  },
  {
   "cell_type": "markdown",
   "metadata": {},
   "source": [
    "### Distribución de frecuencia"
   ]
  },
  {
   "cell_type": "code",
   "execution_count": 15,
   "metadata": {},
   "outputs": [
    {
     "name": "stdout",
     "output_type": "stream",
     "text": [
      "<FreqDist with 25 samples and 30 outcomes>\n"
     ]
    }
   ],
   "source": [
    "fdist = FreqDist(tokenized_word)\n",
    "print(fdist)"
   ]
  },
  {
   "cell_type": "code",
   "execution_count": 19,
   "metadata": {},
   "outputs": [
    {
     "data": {
      "text/plain": [
       "[('is', 3), (',', 2)]"
      ]
     },
     "execution_count": 19,
     "metadata": {},
     "output_type": "execute_result"
    }
   ],
   "source": [
    "# términos más frecuentes\n",
    "fdist.most_common(2)"
   ]
  },
  {
   "cell_type": "code",
   "execution_count": 23,
   "metadata": {},
   "outputs": [
    {
     "data": {
      "image/png": "[encoded data removed]",
      "text/plain": [
       "<Figure size 504x360 with 1 Axes>"
      ]
     },
     "metadata": {
      "needs_background": "light"
     },
     "output_type": "display_data"
    }
   ],
   "source": [
    "plt.figure(figsize=(7,5))\n",
    "fdist.plot(30, cumulative=False)\n",
    "plt.show()"
   ]
  },
  {
   "cell_type": "markdown",
   "metadata": {},
   "source": [
    "### Stopwords"
   ]
  },
  {
   "cell_type": "markdown",
   "metadata": {},
   "source": [
    "Las stopwords se consideran como reuido en el análisis de texto, algunos ejemplo son: is, am, this, the, etc.\n",
    "In NLTK para remover palabras se debe crear una lista de \"stopwords\" y filtrar la lista de tokens."
   ]
  },
  {
   "cell_type": "code",
   "execution_count": 25,
   "metadata": {},
   "outputs": [
    {
     "name": "stdout",
     "output_type": "stream",
     "text": [
      "{'yourself', 'how', 'being', 'nor', 'a', 'we', 'yours', 'he', 'those', 'doesn', 'an', 'only', 'theirs', 'who', 'before', 'between', \"didn't\", 'isn', 'she', 'o', 'couldn', 'shouldn', 'at', 'own', 'under', 'her', 'my', 'with', 'if', 'now', 'myself', 'll', 'should', 'from', \"couldn't\", 'because', 'be', 'his', 'and', 'while', 'you', 'wasn', 'aren', 'didn', 'there', \"don't\", 'any', 's', 'here', 'too', \"isn't\", 'our', \"doesn't\", \"wasn't\", \"should've\", 're', 'weren', 'when', \"mustn't\", 'why', 'hasn', 'above', 'that', 'against', 'into', 'once', 'was', 'i', 'but', 'this', 'other', 'whom', 'them', \"you'll\", 'been', 'are', 'themselves', 'down', 'on', 'the', 'about', 'then', 'they', 'him', \"weren't\", 'again', 'ours', 'what', 'so', 've', 'having', 'out', \"that'll\", 'has', 'hers', 'm', 'is', \"won't\", \"shouldn't\", 'for', \"hasn't\", 'himself', \"it's\", \"you've\", 'through', 'will', \"she's\", 'won', 'to', 'after', 'by', 'in', 'wouldn', 'both', 'd', 'herself', 'very', 'than', 'over', 'needn', \"you're\", 'hadn', 'where', 'which', \"wouldn't\", 't', 'or', \"needn't\", 'these', 'same', 'can', 'mustn', 'y', 'ourselves', 'doing', 'did', 'most', 'just', 'it', 'of', 'haven', 'yourselves', 'more', 'does', 'itself', 'their', 'am', 'such', 'off', 'me', 'its', 'until', 'below', 'further', 'some', 'no', 'as', 'don', 'during', 'mightn', 'ain', 'each', 'have', 'ma', \"shan't\", 'not', 'shan', 'few', \"you'd\", \"aren't\", 'do', 'had', 'your', \"hadn't\", \"haven't\", \"mightn't\", 'were', 'all', 'up'}\n"
     ]
    }
   ],
   "source": [
    "stop_words = set(stopwords.words(\"english\"))\n",
    "print(stop_words)"
   ]
  },
  {
   "cell_type": "code",
   "execution_count": 38,
   "metadata": {},
   "outputs": [
    {
     "name": "stdout",
     "output_type": "stream",
     "text": [
      "Tokenized palabras: ['Hello', 'Mr.', 'Smith', ',', 'how', 'are', 'you', 'doing', 'today', '?', 'The', 'weather', 'is', 'great', ',', 'and', 'city', 'is', 'awesome', '.', 'The', 'sky', 'is', 'pinkish-blue', '.', 'You', 'should', \"n't\", 'eat', 'cardboard']\n",
      "\n",
      " Palabras filtradas: ['hello', 'mr.', 'smith', ',', 'today', '?', 'weather', 'great', ',', 'city', 'awesome', '.', 'sky', 'pinkish-blue', '.', \"n't\", 'eat', 'cardboard']\n"
     ]
    }
   ],
   "source": [
    "## Eliminación de stopwords\n",
    "\n",
    "filtered_sent=[]\n",
    "\n",
    "for w in tokenized_word:\n",
    "    w = w.lower()\n",
    "    if w not in stop_words:\n",
    "        filtered_sent.append(w)\n",
    "        \n",
    "print(\"Tokenized palabras:\",tokenized_word)\n",
    "print(\"\\n Palabras filtradas:\",filtered_sent)"
   ]
  },
  {
   "cell_type": "markdown",
   "metadata": {},
   "source": [
    "## Normalización léxica"
   ]
  },
  {
   "cell_type": "markdown",
   "metadata": {},
   "source": [
    "Considera otro tipo de ruido para el texto, por ejemplo, conección, conectado y conectando tienen en común \"conec\". Lo anterior busca reducir las palabras a un término raíz"
   ]
  },
  {
   "cell_type": "markdown",
   "metadata": {},
   "source": [
    "### Stemming"
   ]
  },
  {
   "cell_type": "markdown",
   "metadata": {},
   "source": [
    "Es un proceso de normalización linguística, que reduce las palabras a su raíz o términos derivados"
   ]
  },
  {
   "cell_type": "code",
   "execution_count": 40,
   "metadata": {},
   "outputs": [
    {
     "name": "stdout",
     "output_type": "stream",
     "text": [
      "Filtered Sentence: ['hello', 'mr.', 'smith', ',', 'today', '?', 'weather', 'great', ',', 'city', 'awesome', '.', 'sky', 'pinkish-blue', '.', \"n't\", 'eat', 'cardboard']\n",
      "Stemmed Sentence: ['hello', 'mr.', 'smith', ',', 'today', '?', 'weather', 'great', ',', 'citi', 'awesom', '.', 'sky', 'pinkish-blu', '.', \"n't\", 'eat', 'cardboard']\n"
     ]
    }
   ],
   "source": [
    "ps = PorterStemmer()\n",
    "\n",
    "stemmed_words=[]\n",
    "\n",
    "for w in filtered_sent:\n",
    "    stemmed_words.append(ps.stem(w))\n",
    "\n",
    "print(\"Filtered Sentence:\",filtered_sent)\n",
    "print(\"Stemmed Sentence:\",stemmed_words)"
   ]
  },
  {
   "cell_type": "markdown",
   "metadata": {},
   "source": [
    "### Lemmatization"
   ]
  },
  {
   "cell_type": "raw",
   "metadata": {},
   "source": [
    "Reduce las palabras a su forma base. Transforma la palabra raíz con el uso de vocabulario y análisis morfológico. Es más sofisticado que stemming ya no toma a consideración el contexto"
   ]
  }
 ],
 "metadata": {
  "kernelspec": {
   "display_name": "Python 3",
   "language": "python",
   "name": "python3"
  },
  "language_info": {
   "codemirror_mode": {
    "name": "ipython",
    "version": 3
   },
   "file_extension": ".py",
   "mimetype": "text/x-python",
   "name": "python",
   "nbconvert_exporter": "python",
   "pygments_lexer": "ipython3",
   "version": "3.7.6"
  }
 },
 "nbformat": 4,
 "nbformat_minor": 4
}
