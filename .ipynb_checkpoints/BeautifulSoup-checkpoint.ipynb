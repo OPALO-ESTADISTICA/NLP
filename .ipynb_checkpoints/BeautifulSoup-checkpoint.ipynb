{
 "cells": [
  {
   "cell_type": "markdown",
   "id": "28ddffdd",
   "metadata": {},
   "source": [
    "## Propósito\n",
    "\n",
    "La recolección de datos es una tarea crítica y de suma importancia para los analístis de datos. En algunos casos estos datos son de difícil acceso o de fuentes diversas, como internet, donde sería bastante tedioso extraer la información de manera manual.\n",
    "\n",
    "El propósito del presente cuaderno es extraer datos de páginas web en un ejercicio sencillo de **web scrapping** usando la librería de Python `BeautifulSoup` y elementos básicos de HTML (Hypertext Markup Language)."
   ]
  },
  {
   "cell_type": "code",
   "execution_count": 1,
   "id": "c54c7024",
   "metadata": {},
   "outputs": [],
   "source": [
    "#Librerías necesarias para web-scrapping básico\n",
    "\n",
    "from IPython.core.display import HTML\n",
    "from bs4 import BeautifulSoup\n",
    "from IPython.display import IFrame\n",
    "import urllib # librería necesaria para acceder a los sitios web\n",
    "import pandas as pd # Se usará para almacenar información de los sitios Web"
   ]
  },
  {
   "cell_type": "markdown",
   "id": "fa18d111",
   "metadata": {},
   "source": [
    "## HTML\n",
    "\n",
    "HTML es un lenguaje de marcado empleado para la construcción de páginas web y aplicaciones;nosotros constantemente estamos en contacto con ella cada vez que navegamos por internet. Algunos puntos claves a tener en cuenta al trabajar con HTML son:\n",
    "\n",
    "1. HTML es tradicionalmente usado en la construcción de sitios web estáticos (sin interacción)\n",
    "2. HTML usa una estructura anidada con etiquetas para indicar como mostrar el contenido\n",
    "3. HTML puede ser integrado con otros leguanjes de programación\n",
    "5. HTML puede ser creado usando cualquier editor de texto"
   ]
  },
  {
   "cell_type": "markdown",
   "id": "ae95538a",
   "metadata": {},
   "source": [
    "Algunas de las etiquetas más populares, o útiles son:\n",
    "\n",
    "1. < html > Indica que el sitio web esta escrito en formato HTML\n",
    "2. < head > Encabezado\n",
    "3. < title > Título en la barra de herramientas cuando es añadida a favoritos\n",
    "4. < body > Define el bloque cuerpo del sitio web, el cuál muestra el contenido del sitio web\n",
    "5. < p > Defines un párrafo que contiene texto que se le mostrará al ususario\n",
    "6. < a > Define un hipervénculo \n",
    "7. < h1 > Define un título de primer nivel \n",
    "8. < h2 > Define un título de segundo nivel\n",
    "9. < br > Define salto de línea\n",
    "\n",
    "A continuación se muestra un ejemplo de estas etiquetas y como se verían"
   ]
  },
  {
   "cell_type": "code",
   "execution_count": 6,
   "id": "fb058534",
   "metadata": {},
   "outputs": [],
   "source": [
    "custom_html_doc = \"\"\"\n",
    "<html>\n",
    "<head>\n",
    "<title>HTML Page Title</title>\n",
    "</head>\n",
    "<h1> Encabezado: Título de primer nivel</h1>\n",
    "<br>\n",
    "<h2> Título de segundo nivel</h2>\n",
    "<body>\n",
    "<p class=\"title\"><b>Párrafo: Noticias</b></p>\n",
    "<p class=\"story\"> Algunas noticias de las últimas semanas son\n",
    "<a href=\"https://www.bbc.com/news/av/world-us-canada-51230018\" target=\"_blank\" class=\"stock\" id=\"link1\">DUK</a>,\n",
    "<a href=\"https://https://www.bbc.com/news/world-us-canada-59006604\" target=\"_blank\" class=\"stock\" id=\"link2\">D</a>,\n",
    "<a href=\"https://finance.yahoo.com/quote/exc/\" target=\"_blank\" class=\"stock\" id=\"link3\">EXC</a>,\n",
    "<a href=\"https://finance.yahoo.com/quote/nee/\" target=\"_blank\" class=\"etf\" id=\"link4\">NEE</a>,\n",
    "<a href=\"https://finance.yahoo.com/quote/so/\" target=\"_blank\" class=\"stock\" id=\"link5\">SO</a>,\n",
    "presentadas por hipervínculos.</p>\n",
    "<p class=\"details\">Final del documento.</p>\n",
    "\"\"\""
   ]
  },
  {
   "cell_type": "code",
   "execution_count": 7,
   "id": "118211e7",
   "metadata": {},
   "outputs": [
    {
     "data": {
      "text/html": [
       "\n",
       "<html>\n",
       "<head>\n",
       "<title>HTML Page Title</title>\n",
       "</head>\n",
       "<h1> Encabezado: Título de primer nivel</h1>\n",
       "<br>\n",
       "<h2> Título de segundo nivel</h2>\n",
       "<body>\n",
       "<p class=\"title\"><b>Párrafo: Noticias</b></p>\n",
       "<p class=\"story\"> Algunas noticias de las últimas semanas son\n",
       "<a href=\"https://www.bbc.com/news/av/world-us-canada-51230018\" target=\"_blank\" class=\"stock\" id=\"link1\">DUK</a>,\n",
       "<a href=\"https://https://www.bbc.com/news/world-us-canada-59006604\" target=\"_blank\" class=\"stock\" id=\"link2\">D</a>,\n",
       "<a href=\"https://finance.yahoo.com/quote/exc/\" target=\"_blank\" class=\"stock\" id=\"link3\">EXC</a>,\n",
       "<a href=\"https://finance.yahoo.com/quote/nee/\" target=\"_blank\" class=\"etf\" id=\"link4\">NEE</a>,\n",
       "<a href=\"https://finance.yahoo.com/quote/so/\" target=\"_blank\" class=\"stock\" id=\"link5\">SO</a>,\n",
       "presentadas por hipervínculos.</p>\n",
       "<p class=\"details\">Final del documento.</p>\n"
      ],
      "text/plain": [
       "<IPython.core.display.HTML object>"
      ]
     },
     "execution_count": 7,
     "metadata": {},
     "output_type": "execute_result"
    }
   ],
   "source": [
    "HTML(custom_html_doc)"
   ]
  },
  {
   "cell_type": "markdown",
   "id": "60eacba3",
   "metadata": {},
   "source": [
    "## Uso de BeautifulSoup para navegar en documentos tipo HTML\n",
    "\n",
    "BeautifulSoup es una librería de Python que transforma los documentos HTML en una estructura de árbol navegable. Es importante y útil para hacer que los documentos de HTML se puedan programar y analizar automáticamente. Su propósito es ofrecer una variedad de formas para buscar, editar y extraer información en documentos HTML"
   ]
  },
  {
   "cell_type": "markdown",
   "id": "d5e74e28",
   "metadata": {},
   "source": [
    "html.parse es la opción estándar para analizar una cadena de texto en HTML, igualmente, prettify() muestra la cadena analizada con la indentación incluida, lo que nos muestra como es la estructura que contemple BeautifulSoup"
   ]
  },
  {
   "cell_type": "code",
   "execution_count": 10,
   "id": "95965458",
   "metadata": {},
   "outputs": [
    {
     "name": "stdout",
     "output_type": "stream",
     "text": [
      "<html>\n",
      " <head>\n",
      "  <title>\n",
      "   HTML Page Title\n",
      "  </title>\n",
      " </head>\n",
      " <h1>\n",
      "  Encabezado: Título de primer nivel\n",
      " </h1>\n",
      " <br/>\n",
      " <h2>\n",
      "  Título de segundo nivel\n",
      " </h2>\n",
      " <body>\n",
      "  <p class=\"title\">\n",
      "   <b>\n",
      "    Párrafo: Noticias\n",
      "   </b>\n",
      "  </p>\n",
      "  <p class=\"story\">\n",
      "   Algunas noticias de las últimas semanas son\n",
      "   <a class=\"stock\" href=\"https://www.bbc.com/news/av/world-us-canada-51230018\" id=\"link1\" target=\"_blank\">\n",
      "    DUK\n",
      "   </a>\n",
      "   ,\n",
      "   <a class=\"stock\" href=\"https://https://www.bbc.com/news/world-us-canada-59006604\" id=\"link2\" target=\"_blank\">\n",
      "    D\n",
      "   </a>\n",
      "   ,\n",
      "   <a class=\"stock\" href=\"https://finance.yahoo.com/quote/exc/\" id=\"link3\" target=\"_blank\">\n",
      "    EXC\n",
      "   </a>\n",
      "   ,\n",
      "   <a class=\"etf\" href=\"https://finance.yahoo.com/quote/nee/\" id=\"link4\" target=\"_blank\">\n",
      "    NEE\n",
      "   </a>\n",
      "   ,\n",
      "   <a class=\"stock\" href=\"https://finance.yahoo.com/quote/so/\" id=\"link5\" target=\"_blank\">\n",
      "    SO\n",
      "   </a>\n",
      "   ,\n",
      "presentadas por hipervínculos.\n",
      "  </p>\n",
      "  <p class=\"details\">\n",
      "   Final del documento.\n",
      "  </p>\n",
      " </body>\n",
      "</html>\n"
     ]
    }
   ],
   "source": [
    "# Uso de html.parser para convertir el documento en una estructura de datos de BeautifulSoup\n",
    "soup = BeautifulSoup(custom_html_doc, 'html.parser')\n",
    "\n",
    "# Imprimir la estructura incluyendo la indentación\n",
    "print(soup.prettify())"
   ]
  },
  {
   "cell_type": "code",
   "execution_count": 12,
   "id": "a3d349ef",
   "metadata": {},
   "outputs": [
    {
     "name": "stdout",
     "output_type": "stream",
     "text": [
      "<a class=\"stock\" href=\"https://www.bbc.com/news/av/world-us-canada-51230018\" id=\"link1\" target=\"_blank\">DUK</a>\n"
     ]
    },
    {
     "data": {
      "text/plain": [
       "bs4.element.Tag"
      ]
     },
     "execution_count": 12,
     "metadata": {},
     "output_type": "execute_result"
    }
   ],
   "source": [
    "# la variable soup ya es una estructura de datos de BeautifulSoup, por lo que se pueden aplicar algunos métodos.\n",
    "\n",
    "tag = soup.a   # Muestra los elemento con la etiqueta a. Por defecto solo toma el primero\n",
    "\n",
    "print(tag)\n",
    "type(tag)"
   ]
  },
  {
   "cell_type": "code",
   "execution_count": 16,
   "id": "a8307f40",
   "metadata": {},
   "outputs": [
    {
     "name": "stdout",
     "output_type": "stream",
     "text": [
      "Tag's name:  a\n",
      "Tag's text:  DUK\n",
      "Tag's parent name:  p\n"
     ]
    }
   ],
   "source": [
    "print(\"Tag's name: \", tag.name) #Nombre de la etiqueta.\n",
    "print(\"Tag's text: \", tag.text) #Texto embebido en la etiqueta.\n",
    "print(\"Tag's parent name: \", tag.parent.name) #Etiqueta padre. "
   ]
  },
  {
   "cell_type": "markdown",
   "id": "f23cb5bb",
   "metadata": {},
   "source": [
    "Una etiqueta puede contener más de un atributo. Se puede acceder a ellos usando el método `attrs`"
   ]
  },
  {
   "cell_type": "code",
   "execution_count": 17,
   "id": "b68dd3cc",
   "metadata": {},
   "outputs": [
    {
     "name": "stdout",
     "output_type": "stream",
     "text": [
      "{'href': 'https://www.bbc.com/news/av/world-us-canada-51230018', 'target': '_blank', 'class': ['stock'], 'id': 'link1'}\n"
     ]
    }
   ],
   "source": [
    "# Mostrar atributos\n",
    "print(tag.attrs)"
   ]
  },
  {
   "cell_type": "markdown",
   "id": "3b36981e",
   "metadata": {},
   "source": [
    "### Extrar todas las etiquetas de un archivo\n",
    "\n",
    "Anteriormente se mostró que era posible acceder a los elementos de una etiqueta, sin embargo solo se regresaba el primero de ellos. Para dar solución a este percance se puede usar la función `find_all`"
   ]
  },
  {
   "cell_type": "code",
   "execution_count": 19,
   "id": "76cf0319",
   "metadata": {},
   "outputs": [
    {
     "name": "stdout",
     "output_type": "stream",
     "text": [
      "[<a class=\"stock\" href=\"https://www.bbc.com/news/av/world-us-canada-51230018\" id=\"link1\" target=\"_blank\">DUK</a>, <a class=\"stock\" href=\"https://https://www.bbc.com/news/world-us-canada-59006604\" id=\"link2\" target=\"_blank\">D</a>, <a class=\"stock\" href=\"https://finance.yahoo.com/quote/exc/\" id=\"link3\" target=\"_blank\">EXC</a>, <a class=\"etf\" href=\"https://finance.yahoo.com/quote/nee/\" id=\"link4\" target=\"_blank\">NEE</a>, <a class=\"stock\" href=\"https://finance.yahoo.com/quote/so/\" id=\"link5\" target=\"_blank\">SO</a>]\n"
     ]
    }
   ],
   "source": [
    "print(soup.find_all(\"a\"))"
   ]
  },
  {
   "cell_type": "code",
   "execution_count": 20,
   "id": "bd8f1e8d",
   "metadata": {},
   "outputs": [
    {
     "name": "stdout",
     "output_type": "stream",
     "text": [
      "https://www.bbc.com/news/av/world-us-canada-51230018\n",
      "https://https://www.bbc.com/news/world-us-canada-59006604\n",
      "https://finance.yahoo.com/quote/exc/\n",
      "https://finance.yahoo.com/quote/nee/\n",
      "https://finance.yahoo.com/quote/so/\n"
     ]
    }
   ],
   "source": [
    "for tag in soup.find_all(\"a\"):\n",
    "    print(tag[\"href\"])"
   ]
  },
  {
   "cell_type": "markdown",
   "id": "5b683322",
   "metadata": {},
   "source": [
    "## Importación de sitios web para analizar"
   ]
  },
  {
   "cell_type": "code",
   "execution_count": 29,
   "id": "6f9d81d2",
   "metadata": {},
   "outputs": [],
   "source": [
    "# Scrape data from website\n",
    "site_url = 'https://www.bbc.com/news/world-us-canada-59006604'\n",
    "r = urllib.request.urlopen(site_url)\n",
    "site_content = r.read().decode('utf-8-sig')\n",
    "\n",
    "# Saving scraped HTML to .html file (for later processing)\n",
    "with open('saved_page.html', 'w') as f:\n",
    "    f.write(site_content)\n",
    "\n",
    "# Use html.parser to create soup\n",
    "s = BeautifulSoup(site_content, 'html.parser')"
   ]
  },
  {
   "cell_type": "code",
   "execution_count": 38,
   "id": "a4ab8661",
   "metadata": {},
   "outputs": [
    {
     "name": "stdout",
     "output_type": "stream",
     "text": [
      "<!DOCTYPE html>\n",
      "<html class=\"no-js\" lang=\"en-GB\">\n",
      "\n"
     ]
    }
   ],
   "source": [
    "print(s.prettify()[:50]) # Solamente mostrar una porción del documento"
   ]
  },
  {
   "cell_type": "code",
   "execution_count": 47,
   "id": "a61d9114",
   "metadata": {},
   "outputs": [
    {
     "data": {
      "text/plain": [
       "{'html': 1,\n",
       " 'head': 1,\n",
       " 'meta': 30,\n",
       " 'title': 1,\n",
       " 'link': 6,\n",
       " 'script': 48,\n",
       " 'style': 2,\n",
       " 'body': 1,\n",
       " 'div': 220,\n",
       " 'header': 2,\n",
       " 'nav': 3,\n",
       " 'a': 104,\n",
       " 'span': 154,\n",
       " 'svg': 23,\n",
       " 'path': 23,\n",
       " 'ul': 13,\n",
       " 'li': 94,\n",
       " 'button': 4,\n",
       " 'main': 1,\n",
       " 'article': 1,\n",
       " 'h1': 1,\n",
       " 'dl': 4,\n",
       " 'dt': 4,\n",
       " 'dd': 4,\n",
       " 'time': 1,\n",
       " 'p': 30,\n",
       " 'b': 1,\n",
       " 'iframe': 1,\n",
       " 'i': 2,\n",
       " 'aside': 4,\n",
       " 'h2': 5,\n",
       " 'noscript': 10,\n",
       " 'img': 10,\n",
       " 'footer': 1}"
      ]
     },
     "execution_count": 47,
     "metadata": {},
     "output_type": "execute_result"
    }
   ],
   "source": [
    "# Determinar el número de ocurrencias de una etiqueta en el documento. Se almacena como un diccionario\n",
    "\n",
    "tag_list = []\n",
    "for tag in s.find_all():\n",
    "    tag_list.append(tag.name)\n",
    "\n",
    "tag_count_list = {}\n",
    "for tag in tag_list:\n",
    "    if tag in tag_count_list:\n",
    "        tag_count_list[tag] = tag_count_list[tag] + 1\n",
    "    else:\n",
    "        tag_count_list[tag] = 1\n",
    "        \n",
    "tag_count_list"
   ]
  },
  {
   "cell_type": "code",
   "execution_count": 55,
   "id": "b2292af3",
   "metadata": {},
   "outputs": [
    {
     "data": {
      "text/plain": [
       "{'href': 'https://www.bbc.com',\n",
       " 'class': ['ssrcss-6qes9f-NavigationLink-LogoLink', 'eki2hvo11']}"
      ]
     },
     "execution_count": 55,
     "metadata": {},
     "output_type": "execute_result"
    }
   ],
   "source": [
    "s.a.attrs"
   ]
  },
  {
   "cell_type": "code",
   "execution_count": 65,
   "id": "e2df763a",
   "metadata": {},
   "outputs": [],
   "source": [
    "url = \"https://www.eltiempo.com/\"\n",
    "doc = urllib.request.urlopen(url).read()\n",
    "doc = doc.decode('utf-8-sig')"
   ]
  },
  {
   "cell_type": "code",
   "execution_count": null,
   "id": "fac24623",
   "metadata": {},
   "outputs": [],
   "source": []
  },
  {
   "cell_type": "code",
   "execution_count": null,
   "id": "a509d77e",
   "metadata": {},
   "outputs": [],
   "source": []
  },
  {
   "cell_type": "code",
   "execution_count": null,
   "id": "ee57ca21",
   "metadata": {},
   "outputs": [],
   "source": []
  },
  {
   "cell_type": "code",
   "execution_count": null,
   "id": "0d0705c3",
   "metadata": {},
   "outputs": [],
   "source": []
  }
 ],
 "metadata": {
  "kernelspec": {
   "display_name": "Python 3",
   "language": "python",
   "name": "python3"
  },
  "language_info": {
   "codemirror_mode": {
    "name": "ipython",
    "version": 3
   },
   "file_extension": ".py",
   "mimetype": "text/x-python",
   "name": "python",
   "nbconvert_exporter": "python",
   "pygments_lexer": "ipython3",
   "version": "3.8.8"
  }
 },
 "nbformat": 4,
 "nbformat_minor": 5
}
