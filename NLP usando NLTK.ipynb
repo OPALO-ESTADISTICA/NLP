{
 "cells": [
  {
   "cell_type": "code",
   "execution_count": 19,
   "metadata": {},
   "outputs": [],
   "source": [
    "import pandas as pd\n",
    "import matplotlib.pyplot as plt\n",
    "import nltk\n",
    "from nltk.tokenize import sent_tokenize     # Sentences\n",
    "from nltk.tokenize import word_tokenize     # Words\n",
    "from nltk.probability import FreqDist       # Evaluación de frecuencia\n",
    "from nltk.corpus import stopwords           # Stopwords\n",
    "from nltk.stem import PorterStemmer               # Stemmer\n",
    "from nltk.stem.wordnet import WordNetLemmatizer   # Lemmatization"
   ]
  },
  {
   "cell_type": "markdown",
   "metadata": {},
   "source": [
    "### Tokenization"
   ]
  },
  {
   "cell_type": "markdown",
   "metadata": {},
   "source": [
    "Tokenization es el primer paso en el análisis de texto. Consiste en fraccionar un párrafo en pequeños fragmentos tales como palabras o frases. Un token es una única unidad que es un bloque de construcción de la frase o párrafo"
   ]
  },
  {
   "cell_type": "code",
   "execution_count": 104,
   "metadata": {},
   "outputs": [],
   "source": [
    "text = \"\"\"Hello Mr. Smith, how are you doing today? The weather is great, and city is awesome.\n",
    "The sky is pinkish-blue. You shouldn't eat cardboard\"\"\"\n",
    "\n",
    "text_2 = \"Hola mundo\""
   ]
  },
  {
   "cell_type": "code",
   "execution_count": 105,
   "metadata": {},
   "outputs": [],
   "source": [
    "textos = [text, text_2]"
   ]
  },
  {
   "cell_type": "code",
   "execution_count": 106,
   "metadata": {},
   "outputs": [
    {
     "data": {
      "text/plain": [
       "[\"Hello Mr. Smith, how are you doing today? The weather is great, and city is awesome.\\nThe sky is pinkish-blue. You shouldn't eat cardboard\",\n",
       " 'Hola mundo']"
      ]
     },
     "execution_count": 106,
     "metadata": {},
     "output_type": "execute_result"
    }
   ],
   "source": [
    "textos"
   ]
  },
  {
   "cell_type": "code",
   "execution_count": 24,
   "metadata": {},
   "outputs": [
    {
     "name": "stdout",
     "output_type": "stream",
     "text": [
      "['Hello Mr. Smith, how are you doing today?', 'The weather is great, and city is awesome.', 'The sky is pinkish-blue.', \"You shouldn't eat cardboard\"]\n"
     ]
    }
   ],
   "source": [
    "# Separación por frases\n",
    "\n",
    "tokenized_text = sent_tokenize(text)\n",
    "print(tokenized_text)"
   ]
  },
  {
   "cell_type": "code",
   "execution_count": 25,
   "metadata": {},
   "outputs": [
    {
     "name": "stdout",
     "output_type": "stream",
     "text": [
      "['Hello', 'Mr.', 'Smith', ',', 'how', 'are', 'you', 'doing', 'today', '?', 'The', 'weather', 'is', 'great', ',', 'and', 'city', 'is', 'awesome', '.', 'The', 'sky', 'is', 'pinkish-blue', '.', 'You', 'should', \"n't\", 'eat', 'cardboard']\n"
     ]
    }
   ],
   "source": [
    "# Separación por palabras\n",
    "\n",
    "tokenized_word = word_tokenize(text)\n",
    "print(tokenized_word)"
   ]
  },
  {
   "cell_type": "markdown",
   "metadata": {},
   "source": [
    "### Distribución de frecuencia"
   ]
  },
  {
   "cell_type": "code",
   "execution_count": 111,
   "metadata": {},
   "outputs": [
    {
     "name": "stdout",
     "output_type": "stream",
     "text": [
      "<FreqDist with 25 samples and 30 outcomes>\n"
     ]
    }
   ],
   "source": [
    "fdist = FreqDist(tokenized_word)\n",
    "print(fdist)"
   ]
  },
  {
   "cell_type": "code",
   "execution_count": 27,
   "metadata": {},
   "outputs": [
    {
     "data": {
      "text/plain": [
       "[('is', 3), (',', 2)]"
      ]
     },
     "execution_count": 27,
     "metadata": {},
     "output_type": "execute_result"
    }
   ],
   "source": [
    "# términos más frecuentes\n",
    "fdist.most_common(2)"
   ]
  },
  {
   "cell_type": "code",
   "execution_count": 113,
   "metadata": {},
   "outputs": [
    {
     "data": {
      "image/png": "[encoded data removed]",
      "text/plain": [
       "<Figure size 504x360 with 1 Axes>"
      ]
     },
     "metadata": {
      "needs_background": "light"
     },
     "output_type": "display_data"
    }
   ],
   "source": [
    "plt.figure(figsize=(7,5))\n",
    "fdist.plot(30, cumulative=False)\n",
    "plt.show()"
   ]
  },
  {
   "cell_type": "code",
   "execution_count": 49,
   "metadata": {},
   "outputs": [
    {
     "name": "stdout",
     "output_type": "stream",
     "text": [
      "['Hello', 'Smith', 'doing', 'today', 'weather', 'great', 'city', 'awesome', 'pinkish-blue', 'should', 'cardboard']\n"
     ]
    }
   ],
   "source": [
    "# Búsqueda detallada de palabras\n",
    "\n",
    "words = []\n",
    "for w in tokenized_word:\n",
    "    if len(w)>3:\n",
    "        words.append(w)\n",
    "    \n",
    "print(words)"
   ]
  },
  {
   "cell_type": "markdown",
   "metadata": {},
   "source": [
    "### Stopwords"
   ]
  },
  {
   "cell_type": "markdown",
   "metadata": {},
   "source": [
    "Las stopwords se consideran como reuido en el análisis de texto, algunos ejemplo son: is, am, this, the, etc.\n",
    "In NLTK para remover palabras se debe crear una lista de \"stopwords\" y filtrar la lista de tokens."
   ]
  },
  {
   "cell_type": "code",
   "execution_count": 29,
   "metadata": {},
   "outputs": [
    {
     "name": "stdout",
     "output_type": "stream",
     "text": [
      "{'wouldn', 'then', 'that', 'theirs', 'weren', 'is', \"shouldn't\", 'our', 'more', 'or', 'if', 'in', 'these', \"couldn't\", 'this', 'because', 'doesn', 'the', 'should', 'has', \"needn't\", 'yourselves', 'both', 'each', 'yourself', 'with', 'below', 'him', 'of', 'after', 'be', 'further', 'on', \"mightn't\", 'from', 'same', 'whom', 'her', 'nor', 'about', 'we', 'and', 'than', 'don', 'myself', 'any', 'up', 'doing', 'to', 'own', 'can', 'having', \"that'll\", 'here', 'o', 've', 'couldn', \"wasn't\", 'i', 'won', \"shan't\", 'before', \"should've\", 'they', 'his', 'off', 'will', 'only', 'mightn', \"don't\", 'are', 'herself', 'such', 'as', 'my', 'very', 'needn', 'out', 're', 'am', 'does', 'what', 'down', 'against', 'd', 'y', \"it's\", 'for', 'through', \"won't\", 'during', 'who', 'a', \"you'd\", 'himself', \"hadn't\", 'just', 'shan', 'had', 'there', 'some', 'most', 'so', 'over', 'your', 'no', 'once', 'you', 'while', 'mustn', 'm', \"you'll\", 'but', 'hasn', 'themselves', 'its', \"hasn't\", 'she', 'above', 'which', \"you're\", \"mustn't\", 'it', 's', 'them', 'was', 'ours', 'where', 'all', 't', 'not', \"haven't\", 'ma', 'too', 'under', 'didn', \"wouldn't\", 'isn', 'yours', \"she's\", 'ain', 'those', 'why', 'wasn', \"isn't\", \"weren't\", 'again', 'their', 'ourselves', 'between', 'itself', \"you've\", 'been', 'have', 'll', 'now', 'by', 'other', \"doesn't\", 'into', 'were', 'me', 'do', 'at', \"aren't\", 'hadn', 'until', 'he', \"didn't\", 'aren', 'few', 'when', 'an', 'did', 'shouldn', 'how', 'hers', 'being', 'haven'}\n"
     ]
    }
   ],
   "source": [
    "stop_words = set(stopwords.words(\"english\"))\n",
    "print(stop_words)"
   ]
  },
  {
   "cell_type": "code",
   "execution_count": 109,
   "metadata": {},
   "outputs": [
    {
     "data": {
      "text/plain": [
       "['Hello',\n",
       " 'Mr.',\n",
       " 'Smith',\n",
       " ',',\n",
       " 'how',\n",
       " 'are',\n",
       " 'you',\n",
       " 'doing',\n",
       " 'today',\n",
       " '?',\n",
       " 'The',\n",
       " 'weather',\n",
       " 'is',\n",
       " 'great',\n",
       " ',',\n",
       " 'and',\n",
       " 'city',\n",
       " 'is',\n",
       " 'awesome',\n",
       " '.',\n",
       " 'The',\n",
       " 'sky',\n",
       " 'is',\n",
       " 'pinkish-blue',\n",
       " '.',\n",
       " 'You',\n",
       " 'should',\n",
       " \"n't\",\n",
       " 'eat',\n",
       " 'cardboard']"
      ]
     },
     "execution_count": 109,
     "metadata": {},
     "output_type": "execute_result"
    }
   ],
   "source": [
    "tokenized_word"
   ]
  },
  {
   "cell_type": "code",
   "execution_count": 110,
   "metadata": {},
   "outputs": [
    {
     "name": "stdout",
     "output_type": "stream",
     "text": [
      "Tokenized palabras: ['Hello', 'Mr.', 'Smith', ',', 'how', 'are', 'you', 'doing', 'today', '?', 'The', 'weather', 'is', 'great', ',', 'and', 'city', 'is', 'awesome', '.', 'The', 'sky', 'is', 'pinkish-blue', '.', 'You', 'should', \"n't\", 'eat', 'cardboard']\n",
      "\n",
      " Palabras filtradas: ['hello', 'mr.', 'smith', ',', 'today', '?', 'weather', 'great', ',', 'city', 'awesome', '.', 'sky', 'pinkish-blue', '.', \"n't\", 'eat', 'cardboard']\n"
     ]
    }
   ],
   "source": [
    "## Eliminación de stopwords\n",
    "\n",
    "filtered_sent=[]\n",
    "\n",
    "for w in tokenized_word:\n",
    "    w = w.lower()\n",
    "    if w not in stop_words:\n",
    "        filtered_sent.append(w)\n",
    "        \n",
    "print(\"Tokenized palabras:\",tokenized_word)\n",
    "print(\"\\n Palabras filtradas:\",filtered_sent)"
   ]
  },
  {
   "cell_type": "markdown",
   "metadata": {},
   "source": [
    "## Normalización léxica"
   ]
  },
  {
   "cell_type": "markdown",
   "metadata": {},
   "source": [
    "Considera otro tipo de ruido para el texto, por ejemplo, conección, conectado y conectando tienen en común \"conec\". Lo anterior busca reducir las palabras a un término raíz"
   ]
  },
  {
   "cell_type": "markdown",
   "metadata": {},
   "source": [
    "### Stemming"
   ]
  },
  {
   "cell_type": "markdown",
   "metadata": {},
   "source": [
    "Es un proceso de normalización linguística, que reduce las palabras a su raíz o términos derivados"
   ]
  },
  {
   "cell_type": "code",
   "execution_count": 31,
   "metadata": {},
   "outputs": [
    {
     "name": "stdout",
     "output_type": "stream",
     "text": [
      "Filtered Sentence: ['hello', 'mr.', 'smith', ',', 'today', '?', 'weather', 'great', ',', 'city', 'awesome', '.', 'sky', 'pinkish-blue', '.', \"n't\", 'eat', 'cardboard']\n",
      "Stemmed Sentence: ['hello', 'mr.', 'smith', ',', 'today', '?', 'weather', 'great', ',', 'citi', 'awesom', '.', 'sky', 'pinkish-blu', '.', \"n't\", 'eat', 'cardboard']\n"
     ]
    }
   ],
   "source": [
    "ps = PorterStemmer()\n",
    "\n",
    "stemmed_words=[]\n",
    "\n",
    "for w in filtered_sent:\n",
    "    stemmed_words.append(ps.stem(w))\n",
    "\n",
    "print(\"Filtered Sentence:\",filtered_sent)\n",
    "print(\"Stemmed Sentence:\",stemmed_words)"
   ]
  },
  {
   "cell_type": "markdown",
   "metadata": {},
   "source": [
    "### Lemmatization"
   ]
  },
  {
   "cell_type": "raw",
   "metadata": {},
   "source": [
    "Reduce las palabras a su forma base. Transforma la palabra raíz con el uso de vocabulario y análisis morfológico. Es más sofisticado que stemming ya no toma a consideración el contexto"
   ]
  },
  {
   "cell_type": "code",
   "execution_count": 32,
   "metadata": {},
   "outputs": [
    {
     "name": "stdout",
     "output_type": "stream",
     "text": [
      "Lemmatized Word: fly\n",
      "Stemmed Word: fli\n"
     ]
    }
   ],
   "source": [
    "lem = WordNetLemmatizer()\n",
    "stem = PorterStemmer()\n",
    "\n",
    "word = \"flying\"\n",
    "print(\"Lemmatized Word:\", lem.lemmatize(word,\"v\"))\n",
    "print(\"Stemmed Word:\",stem.stem(word))"
   ]
  },
  {
   "cell_type": "markdown",
   "metadata": {},
   "source": [
    "## Part of speech tagging"
   ]
  },
  {
   "cell_type": "markdown",
   "metadata": {},
   "source": [
    "Basado en el contexto de la frase analizada se identifican los elementos gramaticales. Si es un pronombre, sustantivo, adjetivo, verbo o adverbio, etc. POS tagging analiza el contexto y asigna las respectivas etiquetas"
   ]
  },
  {
   "cell_type": "code",
   "execution_count": 33,
   "metadata": {},
   "outputs": [
    {
     "data": {
      "text/plain": [
       "[('Albert', 'NNP'),\n",
       " ('Einstein', 'NNP'),\n",
       " ('was', 'VBD'),\n",
       " ('born', 'VBN'),\n",
       " ('in', 'IN'),\n",
       " ('Ulm', 'NNP'),\n",
       " (',', ','),\n",
       " ('Germany', 'NNP'),\n",
       " ('in', 'IN'),\n",
       " ('1879', 'CD'),\n",
       " ('.', '.')]"
      ]
     },
     "execution_count": 33,
     "metadata": {},
     "output_type": "execute_result"
    }
   ],
   "source": [
    "sent = \"Albert Einstein was born in Ulm, Germany in 1879.\"  # Oración a analizar\n",
    "\n",
    "tokens = nltk.word_tokenize(sent)\n",
    "nltk.pos_tag(tokens)"
   ]
  },
  {
   "cell_type": "markdown",
   "metadata": {},
   "source": [
    "## 3. Análisis de sentimientos"
   ]
  },
  {
   "cell_type": "markdown",
   "metadata": {},
   "source": [
    "Este tipo de análisis se establece como propósito entender de mejor manera como o porque las personas toman ciertas decisiones o comportamientos y cuantificarlos. Va más allá que solo entender la manera en que algo se escribión, sino que también la manera en que se hace y el tono.\n",
    "\n",
    "Se diferencias dos maneras de abordar este análisis:\n",
    "\n",
    "**1. Basado en léxico:** Cuenta el número de palabras positivas y negativas en un texto dado, y el más frecuente será el sentimiento representado\n",
    "\n",
    "**2. Basado en ML:** Se desarrolla un modelo de clasificación, que es entrenado previamente con experiencias etiquetadas como positivas, negativas o neutras"
   ]
  },
  {
   "cell_type": "markdown",
   "metadata": {},
   "source": [
    "### 3.1 Clasficación de texto"
   ]
  },
  {
   "cell_type": "markdown",
   "metadata": {},
   "source": [
    "La clasificación de texto es una tarea crucial en la minería de texto. Este es un enfoque supervisado que busca identificar una clase o categoría, por ejemplo si es spam, categorización de productos, contenido, sentimientos de un comentario, etc. \n",
    "\n",
    "<img src=\"images/text classification.png\" style=\"width: 500px;\"/>"
   ]
  },
  {
   "cell_type": "markdown",
   "metadata": {},
   "source": [
    "Se ha de analizar un dataset público en [Kaggle](https://www.kaggle.com/c/sentiment-analysis-on-movie-reviews/data) que reconoce 5 sentimientos para una serie de filmes"
   ]
  },
  {
   "cell_type": "code",
   "execution_count": 34,
   "metadata": {},
   "outputs": [
    {
     "data": {
      "text/html": [
       "<div>\n",
       "<style scoped>\n",
       "    .dataframe tbody tr th:only-of-type {\n",
       "        vertical-align: middle;\n",
       "    }\n",
       "\n",
       "    .dataframe tbody tr th {\n",
       "        vertical-align: top;\n",
       "    }\n",
       "\n",
       "    .dataframe thead th {\n",
       "        text-align: right;\n",
       "    }\n",
       "</style>\n",
       "<table border=\"1\" class=\"dataframe\">\n",
       "  <thead>\n",
       "    <tr style=\"text-align: right;\">\n",
       "      <th></th>\n",
       "      <th>PhraseId</th>\n",
       "      <th>SentenceId</th>\n",
       "      <th>Phrase</th>\n",
       "      <th>Sentiment</th>\n",
       "    </tr>\n",
       "  </thead>\n",
       "  <tbody>\n",
       "    <tr>\n",
       "      <th>0</th>\n",
       "      <td>1</td>\n",
       "      <td>1</td>\n",
       "      <td>A series of escapades demonstrating the adage ...</td>\n",
       "      <td>1</td>\n",
       "    </tr>\n",
       "    <tr>\n",
       "      <th>1</th>\n",
       "      <td>2</td>\n",
       "      <td>1</td>\n",
       "      <td>A series of escapades demonstrating the adage ...</td>\n",
       "      <td>2</td>\n",
       "    </tr>\n",
       "    <tr>\n",
       "      <th>2</th>\n",
       "      <td>3</td>\n",
       "      <td>1</td>\n",
       "      <td>A series</td>\n",
       "      <td>2</td>\n",
       "    </tr>\n",
       "    <tr>\n",
       "      <th>3</th>\n",
       "      <td>4</td>\n",
       "      <td>1</td>\n",
       "      <td>A</td>\n",
       "      <td>2</td>\n",
       "    </tr>\n",
       "    <tr>\n",
       "      <th>4</th>\n",
       "      <td>5</td>\n",
       "      <td>1</td>\n",
       "      <td>series</td>\n",
       "      <td>2</td>\n",
       "    </tr>\n",
       "  </tbody>\n",
       "</table>\n",
       "</div>"
      ],
      "text/plain": [
       "   PhraseId  SentenceId                                             Phrase  \\\n",
       "0         1           1  A series of escapades demonstrating the adage ...   \n",
       "1         2           1  A series of escapades demonstrating the adage ...   \n",
       "2         3           1                                           A series   \n",
       "3         4           1                                                  A   \n",
       "4         5           1                                             series   \n",
       "\n",
       "   Sentiment  \n",
       "0          1  \n",
       "1          2  \n",
       "2          2  \n",
       "3          2  \n",
       "4          2  "
      ]
     },
     "execution_count": 34,
     "metadata": {},
     "output_type": "execute_result"
    }
   ],
   "source": [
    "data = pd.read_csv(\"data/train.tsv\", sep=\"\\t\") # Lectura de conjunto de datos\n",
    "data.head()"
   ]
  },
  {
   "cell_type": "code",
   "execution_count": 35,
   "metadata": {},
   "outputs": [
    {
     "data": {
      "text/plain": [
       "2    79582\n",
       "3    32927\n",
       "1    27273\n",
       "4     9206\n",
       "0     7072\n",
       "Name: Sentiment, dtype: int64"
      ]
     },
     "execution_count": 35,
     "metadata": {},
     "output_type": "execute_result"
    }
   ],
   "source": [
    "data.Sentiment.value_counts() # Conteo de categorías \"Sentiment\" para el data set"
   ]
  },
  {
   "cell_type": "code",
   "execution_count": 36,
   "metadata": {},
   "outputs": [
    {
     "data": {
      "image/png": "[encoded data removed]",
      "text/plain": [
       "<Figure size 432x288 with 1 Axes>"
      ]
     },
     "metadata": {
      "needs_background": "light"
     },
     "output_type": "display_data"
    }
   ],
   "source": [
    "# Histograma de sentimientos\n",
    "\n",
    "Sentiment_count = data.groupby('Sentiment').count()\n",
    "plt.bar(Sentiment_count.index.values, Sentiment_count['Phrase'])\n",
    "plt.xlabel('Review Sentiments')\n",
    "plt.ylabel('Number of Review')\n",
    "plt.show()"
   ]
  },
  {
   "cell_type": "markdown",
   "metadata": {},
   "source": [
    "### Generación de sentimientos utilizando Bag of Words"
   ]
  },
  {
   "cell_type": "markdown",
   "metadata": {},
   "source": [
    "Para poder utilizar directamente la información de texto es preciso transformarla en vectores numéricos. Bag of Words es una de las maneras más simples de extraer características de los datos conviertiendo el texto en una matriz de ocurrencia para las palabras. Concierne con el hecho de si una palabra ocurre o no en un documento.\n",
    "\n",
    "Esta matriz puede representan 1 o n palabras, en ese caso sería un n-grama"
   ]
  },
  {
   "cell_type": "code",
   "execution_count": 37,
   "metadata": {},
   "outputs": [],
   "source": [
    "from sklearn.feature_extraction.text import CountVectorizer   # Generar matriz de conteo\n",
    "from sklearn.feature_extraction.text import TfidfVectorizer\n",
    "from nltk.tokenize import RegexpTokenizer        \n",
    "from sklearn.model_selection import train_test_split          # Particionar datos en prueba y entrenamiento\n",
    "from sklearn.naive_bayes import MultinomialNB\n",
    "from sklearn import metrics"
   ]
  },
  {
   "cell_type": "code",
   "execution_count": 38,
   "metadata": {},
   "outputs": [],
   "source": [
    "# tokenizer remueve elementos no necesarios de los datos como símbolos y números\n",
    "\n",
    "token = RegexpTokenizer(r'[a-zA-Z0-9]+')\n",
    "cv = CountVectorizer(lowercase=True, stop_words='english', ngram_range = (1,1), tokenizer = token.tokenize)\n",
    "text_counts= cv.fit_transform(data['Phrase'])\n",
    "\n",
    "# Particionar dataset\n",
    "\n",
    "X_train, X_test, y_train, y_test = train_test_split(\n",
    "    text_counts, data['Sentiment'], test_size=0.3, random_state=1)"
   ]
  },
  {
   "cell_type": "code",
   "execution_count": 39,
   "metadata": {},
   "outputs": [
    {
     "name": "stdout",
     "output_type": "stream",
     "text": [
      "MultinomialNB Accuracy: 0.6049169122986885\n"
     ]
    }
   ],
   "source": [
    "# Entrenamiento y prueba del modelo usando un clasificador ingenuo de Bayes\n",
    "\n",
    "clf = MultinomialNB().fit(X_train, y_train)\n",
    "predicted= clf.predict(X_test)\n",
    "print(\"MultinomialNB Accuracy:\", metrics.accuracy_score(y_test, predicted))"
   ]
  },
  {
   "cell_type": "markdown",
   "metadata": {},
   "source": [
    "### TF-IDF \n",
    "\n",
    "Bag of words toma a consideranción solamente la frecuencia de las palabras independientemente de la longitu del documento. IDF (Inverse Document Frecuency) por su parte mide la cantidad de información suministrada a lo largo del documento. Es una métrica que escala de manera logarítmica la razón del número de documentos y el número de documentos en los que hace presencia el término $idf(W) = \\frac{\\#(documents)}{\\#(documents containing word W)}$\n",
    "\n",
    "TF-IDF (Term Frequency-Inverse Document Frequency) normaliza los valores de la matriz de términos"
   ]
  },
  {
   "cell_type": "code",
   "execution_count": 40,
   "metadata": {},
   "outputs": [],
   "source": [
    "tf = TfidfVectorizer()\n",
    "text_tf = tf.fit_transform(data['Phrase'])"
   ]
  },
  {
   "cell_type": "code",
   "execution_count": 41,
   "metadata": {},
   "outputs": [],
   "source": [
    "X_train, X_test, y_train, y_test = train_test_split(\n",
    "    text_tf, data['Sentiment'], test_size=0.3, random_state=123)"
   ]
  },
  {
   "cell_type": "code",
   "execution_count": 42,
   "metadata": {},
   "outputs": [
    {
     "name": "stdout",
     "output_type": "stream",
     "text": [
      "MultinomialNB Accuracy: 0.5865265496176684\n"
     ]
    }
   ],
   "source": [
    "clf = MultinomialNB().fit(X_train, y_train)\n",
    "predicted= clf.predict(X_test)\n",
    "print(\"MultinomialNB Accuracy:\",metrics.accuracy_score(y_test, predicted))"
   ]
  },
  {
   "cell_type": "markdown",
   "metadata": {},
   "source": [
    "## Acceso a datos desde la web y nuestro ordenador"
   ]
  },
  {
   "cell_type": "code",
   "execution_count": 54,
   "metadata": {},
   "outputs": [],
   "source": [
    "from urllib "
   ]
  },
  {
   "cell_type": "code",
   "execution_count": 73,
   "metadata": {},
   "outputs": [
    {
     "data": {
      "text/plain": [
       "'The Project Gutenberg eBook of Crime and Punishment, by Fyodor Dostoevsky\\r\\n'"
      ]
     },
     "execution_count": 73,
     "metadata": {},
     "output_type": "execute_result"
    }
   ],
   "source": [
    "url = \"https://www.gutenberg.org/files/2554/2554-0.txt\"\n",
    "raw = urllib.request.urlopen(url).read()\n",
    "raw = raw.decode('utf-8-sig')\n",
    "len(raw)\n",
    "raw[:75]"
   ]
  },
  {
   "cell_type": "code",
   "execution_count": 74,
   "metadata": {},
   "outputs": [
    {
     "data": {
      "text/plain": [
       "['The',\n",
       " 'Project',\n",
       " 'Gutenberg',\n",
       " 'eBook',\n",
       " 'of',\n",
       " 'Crime',\n",
       " 'and',\n",
       " 'Punishment',\n",
       " ',',\n",
       " 'by']"
      ]
     },
     "execution_count": 74,
     "metadata": {},
     "output_type": "execute_result"
    }
   ],
   "source": [
    "tokens = word_tokenize(raw)\n",
    "len(tokens)\n",
    "tokens[:10]"
   ]
  },
  {
   "cell_type": "code",
   "execution_count": 82,
   "metadata": {},
   "outputs": [
    {
     "name": "stdout",
     "output_type": "stream",
     "text": [
      "Katerina Ivanovna; Pyotr Petrovitch; Pulcheria Alexandrovna; Avdotya\n",
      "Romanovna; Rodion Romanovitch; Marfa Petrovna; Sofya Semyonovna; old\n",
      "woman; Project Gutenberg-tm; Porfiry Petrovitch; Amalia Ivanovna;\n",
      "great deal; young man; Nikodim Fomitch; Project Gutenberg; Ilya\n",
      "Petrovitch; Andrey Semyonovitch; Hay Market; Dmitri Prokofitch; Good\n",
      "heavens\n"
     ]
    }
   ],
   "source": [
    "# Convertir el texto en NLTK \n",
    "text = nltk.Text(tokens)\n",
    "text.collocations()"
   ]
  },
  {
   "cell_type": "markdown",
   "metadata": {},
   "source": [
    "## Manipulación de archivos HTML"
   ]
  },
  {
   "cell_type": "code",
   "execution_count": 94,
   "metadata": {},
   "outputs": [],
   "source": [
    "from bs4 import BeautifulSoup"
   ]
  },
  {
   "cell_type": "code",
   "execution_count": 89,
   "metadata": {},
   "outputs": [],
   "source": [
    "url = \"https://www.bbc.com/news/av/world-us-canada-58920819\"\n",
    "html = urllib.request.urlopen(url).read()"
   ]
  },
  {
   "cell_type": "code",
   "execution_count": 96,
   "metadata": {},
   "outputs": [
    {
     "data": {
      "text/plain": [
       "\"Stranded 600lb turtle returned to Atlantic Ocean - BBC NewsBBC HomepageSkip to contentAccessibility HelpYour accountHomeNewsSportReelWorklifeTravelFutureCultureMenuMoreSearchHomeNewsSportReelWorklifeTravelFutureCultureMusicTVWeatherSoundsClose menuBBC NewsMenuHomeCoronavirusClimateVideoWorldUS & CanadaUKBusinessTechScienceStoriesMoreEntertainment & ArtsHealthIn PicturesReality CheckWorld News TVNewsbeatLong ReadsUS & CanadaStranded 600lb turtle returned to Atlantic OceanStranded 600lb turtle returned to Atlantic OceanCloseVolunteers will track the turtle, which got stuck in a Massachusetts river, to make sure it survives in the ocean.Published2 hours agoSectionBBC NewsSubsectionUS & CanadaSharecloseShare pageCopy linkAbout sharingRelatedStranded 600lb turtle returned to Atlantic Ocean. Video, 00:01:22Stranded 600lb turtle returned to Atlantic OceanPublished2 hours agoSubsectionUS & Canada1:22Up Next. Texas turtles released back into sea. Video, 00:00:54Texas turtles released back into seaPublished26 FebruarySubsectionUS & CanadaUp Next0:54Thousands of turtles rescued from Texas cold. Video, 00:02:33Thousands of turtles rescued from Texas coldPublished18 FebruarySubsectionUS & Canada2:33Haunting image of trapped sea turtle wins award. Video, 00:01:22Haunting image of trapped sea turtle wins awardPublished28 January 2020SubsectionUS & Canada1:22Washed up turtle flown back to the wild. Video, 00:02:24Washed up turtle flown back to the wildPublished17 SeptemberSubsectionNorthern Ireland2:24How climate change is affecting green sea turtles. Video, 00:02:06How climate change is affecting green sea turtlesPublished29 AprilSectionCBBC Newsround2:06RecommendedIdris Elba on his 'culture rich' Western film. Video, 00:02:09Idris Elba on his 'culture rich' Western filmPublished28 minutes agoSubsectionEntertainment & Arts2:09'I made sense of my cancer by creating art' Video, 00:03:22'I made sense of my cancer by creating art'Published32 minutes agoSubsectionNottingham3:22'Talent is everywhere, but opportunity is not' Video, 00:02:27'Talent is everywhere, but opportunity is not'Published34 minutes agoSubsectionBusiness2:27Norway attack: 'I heard a distinct thunk sound' Video, 00:01:02Norway attack: 'I heard a distinct thunk sound'Published7 hours agoSubsectionEurope1:02Gunfire in Beirut after port explosion protest. Video, 00:00:41Gunfire in Beirut after port explosion protestPublished10 hours agoSubsectionMiddle East0:41Coldplay announce new 'eco-friendly' tour. Video, 00:05:34Coldplay announce new 'eco-friendly' tourPublished11 hours agoSubsectionEntertainment & Arts5:34William: 'Repair this planet, not find the next' Video, 00:02:31William: 'Repair this planet, not find the next'Published13 hours agoSubsectionUK2:31Teen inventor designs solar iron to fight pollution. Video, 00:02:21Teen inventor designs solar iron to fight pollutionPublished1 day agoSubsectionScience & Environment2:21Firefighters battle Taiwan tower block blaze. Video, 00:00:45Firefighters battle Taiwan tower block blazePublished13 hours agoSubsectionAsia0:45One-minute World News. Video, 00:01:02One-minute World NewsPublished4 hours agoSectionBBC News1:02HomeNewsSportReelWorklifeTravelFutureCultureMusicTVWeatherSoundsTerms of UseAbout the BBCPrivacy PolicyCookiesAccessibility HelpParental GuidanceContact the BBCGet Personalised NewslettersWhy you can trust the BBCAdvertise with usAdChoices / Do Not Sell My Info© 2021 BBC. The BBC is not responsible for the content of external sites. Read about our approach to external linking.\""
      ]
     },
     "execution_count": 96,
     "metadata": {},
     "output_type": "execute_result"
    }
   ],
   "source": [
    "raw = BeautifulSoup(html).get_text()\n",
    "raw"
   ]
  }
 ],
 "metadata": {
  "kernelspec": {
   "display_name": "Python 3",
   "language": "python",
   "name": "python3"
  },
  "language_info": {
   "codemirror_mode": {
    "name": "ipython",
    "version": 3
   },
   "file_extension": ".py",
   "mimetype": "text/x-python",
   "name": "python",
   "nbconvert_exporter": "python",
   "pygments_lexer": "ipython3",
   "version": "3.8.8"
  }
 },
 "nbformat": 4,
 "nbformat_minor": 4
}
